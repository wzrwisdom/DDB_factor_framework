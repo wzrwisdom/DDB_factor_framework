{
 "cells": [
  {
   "cell_type": "code",
   "execution_count": 1,
   "metadata": {},
   "outputs": [],
   "source": [
    "import dolphindb as ddb \n",
    "import torch\n",
    "import torch.nn as nn  \n",
    "import dolphindb_tools\n",
    "import os"
   ]
  },
  {
   "cell_type": "code",
   "execution_count": 2,
   "metadata": {},
   "outputs": [
    {
     "data": {
      "text/plain": [
       "True"
      ]
     },
     "execution_count": 2,
     "metadata": {},
     "output_type": "execute_result"
    }
   ],
   "source": [
    "# create DDB session\n",
    "s = ddb.session()\n",
    "s.connect(\"127.0.0.1\", 11282, \"wangzr\", \"wzr123456\")"
   ]
  },
  {
   "cell_type": "code",
   "execution_count": 3,
   "metadata": {},
   "outputs": [],
   "source": [
    "dbPath = \"dfs://K_Minute_Level\"\n",
    "tbName = \"OneMinute\"\n",
    "t1 = s.loadTable(dbPath=dbPath, tableName=tbName)"
   ]
  },
  {
   "cell_type": "code",
   "execution_count": 14,
   "metadata": {},
   "outputs": [
    {
     "data": {
      "text/plain": [
       "(dolphindb.table.Table, pandas.core.frame.DataFrame)"
      ]
     },
     "execution_count": 14,
     "metadata": {},
     "output_type": "execute_result"
    }
   ],
   "source": [
    "type(t1), type(t1.toDF())"
   ]
  },
  {
   "cell_type": "code",
   "execution_count": 16,
   "metadata": {},
   "outputs": [
    {
     "data": {
      "text/plain": [
       "['security_code',\n",
       " 'trade_time',\n",
       " 'open',\n",
       " 'high',\n",
       " 'low',\n",
       " 'close',\n",
       " 'vol',\n",
       " 'amount',\n",
       " 'vwap',\n",
       " 's1',\n",
       " 'b1',\n",
       " 'bs_avg_price',\n",
       " 'wb',\n",
       " 'price_adj',\n",
       " 'ret']"
      ]
     },
     "execution_count": 16,
     "metadata": {},
     "output_type": "execute_result"
    }
   ],
   "source": [
    "# list all columns of t1\n",
    "t1.colNames"
   ]
  },
  {
   "cell_type": "code",
   "execution_count": 19,
   "metadata": {},
   "outputs": [
    {
     "data": {
      "text/plain": [
       "482"
      ]
     },
     "execution_count": 19,
     "metadata": {},
     "output_type": "execute_result"
    }
   ],
   "source": [
    "df1 = t1.toDF()\n",
    "selected_df = df1[df1['security_code'].isin(['000014', '000019', '000048'])]\n",
    "# selected_df.shape[0]\n",
    "# selected_df = df1[df1['security_code']=='000014' ]\n",
    "# df1['security_code'].unique()\n",
    "# df1['security_code'].isin(['000014', '000019', '000048']).sum()"
   ]
  },
  {
   "cell_type": "code",
   "execution_count": 13,
   "metadata": {},
   "outputs": [],
   "source": [
    "os.makedirs(\"./csv\", exist_ok=True)\n",
    "selected_df.to_csv(\"./csv/OneMin_KLine.csv\")"
   ]
  },
  {
   "cell_type": "code",
   "execution_count": 14,
   "metadata": {},
   "outputs": [],
   "source": [
    "s.close()"
   ]
  },
  {
   "cell_type": "code",
   "execution_count": null,
   "metadata": {},
   "outputs": [],
   "source": []
  }
 ],
 "metadata": {
  "kernelspec": {
   "display_name": "myenv",
   "language": "python",
   "name": "python3"
  },
  "language_info": {
   "codemirror_mode": {
    "name": "ipython",
    "version": 3
   },
   "file_extension": ".py",
   "mimetype": "text/x-python",
   "name": "python",
   "nbconvert_exporter": "python",
   "pygments_lexer": "ipython3",
   "version": "3.7.16"
  }
 },
 "nbformat": 4,
 "nbformat_minor": 2
}
