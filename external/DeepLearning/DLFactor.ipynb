{
 "cells": [
  {
   "cell_type": "code",
   "execution_count": 1,
   "metadata": {},
   "outputs": [],
   "source": [
    "import dolphindb as ddb\n",
    "import torch\n",
    "import torch.nn as nn\n",
    "from net import SimpleNet\n",
    "from tqdm import tqdm\n",
    "import os\n",
    "\n",
    "from dolphindb_tools.dataloader import DDBDataLoader"
   ]
  },
  {
   "cell_type": "code",
   "execution_count": 4,
   "metadata": {},
   "outputs": [
    {
     "data": {
      "text/plain": [
       "('0.1-alpha1', '2.0.11.0', '1.10.1+cu111')"
      ]
     },
     "execution_count": 4,
     "metadata": {},
     "output_type": "execute_result"
    }
   ],
   "source": [
    "import dolphindb_tools\n",
    "dolphindb_tools.__version__, ddb.__version__, torch.__version__"
   ]
  },
  {
   "cell_type": "code",
   "execution_count": 186,
   "metadata": {},
   "outputs": [
    {
     "data": {
      "text/plain": [
       "True"
      ]
     },
     "execution_count": 186,
     "metadata": {},
     "output_type": "execute_result"
    }
   ],
   "source": [
    "# 创建session\n",
    "s = ddb.session()\n",
    "s.connect(\"127.0.0.1\", 11281, \"admin\", \"123456\")"
   ]
  },
  {
   "cell_type": "code",
   "execution_count": 187,
   "metadata": {},
   "outputs": [],
   "source": [
    "dbPath = \"dfs://ai_dataloader\"\n",
    "tbName = \"wide_factor_table\"\n",
    "t1 = s.loadTable(tableName=tbName,dbPath=dbPath)"
   ]
  },
  {
   "cell_type": "code",
   "execution_count": 177,
   "metadata": {},
   "outputs": [
    {
     "data": {
      "text/plain": [
       "['security_code',\n",
       " 'trade_time',\n",
       " 'close',\n",
       " 'close1',\n",
       " 'close2',\n",
       " 'close3',\n",
       " 'close4',\n",
       " 'close5',\n",
       " 'close6',\n",
       " 'close7',\n",
       " 'close8',\n",
       " 'close9',\n",
       " 'open',\n",
       " 'open1',\n",
       " 'open2',\n",
       " 'open3',\n",
       " 'open4',\n",
       " 'open5',\n",
       " 'open6',\n",
       " 'open7',\n",
       " 'open8',\n",
       " 'open9',\n",
       " 'high',\n",
       " 'high1',\n",
       " 'high2',\n",
       " 'high3',\n",
       " 'high4',\n",
       " 'high5',\n",
       " 'high6',\n",
       " 'high7',\n",
       " 'high8',\n",
       " 'high9',\n",
       " 'low',\n",
       " 'low1',\n",
       " 'low2',\n",
       " 'low3',\n",
       " 'low4',\n",
       " 'low5',\n",
       " 'low6',\n",
       " 'low7',\n",
       " 'low8',\n",
       " 'low9',\n",
       " 'vwap',\n",
       " 'vwap1',\n",
       " 'vwap2',\n",
       " 'vwap3',\n",
       " 'vwap4',\n",
       " 'vwap5',\n",
       " 'vwap6',\n",
       " 'vwap7',\n",
       " 'vwap8',\n",
       " 'vwap9',\n",
       " 'vol',\n",
       " 'vol1',\n",
       " 'vol2',\n",
       " 'vol3',\n",
       " 'vol4',\n",
       " 'vol5',\n",
       " 'vol6',\n",
       " 'vol7',\n",
       " 'vol8',\n",
       " 'vol9',\n",
       " 'label']"
      ]
     },
     "execution_count": 177,
     "metadata": {},
     "output_type": "execute_result"
    }
   ],
   "source": [
    "t1.colNames"
   ]
  },
  {
   "cell_type": "code",
   "execution_count": 178,
   "metadata": {},
   "outputs": [
    {
     "data": {
      "text/plain": [
       "121"
      ]
     },
     "execution_count": 178,
     "metadata": {},
     "output_type": "execute_result"
    }
   ],
   "source": [
    "len(t1.exec(['distinct trade_time']).toList()) # security_code"
   ]
  },
  {
   "cell_type": "code",
   "execution_count": 188,
   "metadata": {},
   "outputs": [],
   "source": [
    "times = t1.select(\"distinct trade_time\").toDF().to_numpy()"
   ]
  },
  {
   "cell_type": "code",
   "execution_count": 189,
   "metadata": {},
   "outputs": [
    {
     "data": {
      "text/plain": [
       "(594837, 63)"
      ]
     },
     "execution_count": 189,
     "metadata": {},
     "output_type": "execute_result"
    }
   ],
   "source": [
    "s = ddb.session()\n",
    "s.connect(\"127.0.0.1\", 11281, \"admin\", \"123456\")\n",
    "\n",
    "# 加载库表\n",
    "dbPath = \"dfs://ai_dataloader\"\n",
    "tbName = \"wide_factor_table\"\n",
    "t1 = s.loadTable(tableName=tbName,dbPath=dbPath)\n",
    "\n",
    "symbols = t1.exec(['distinct security_code']).toList().tolist()\n",
    "symbols = [\"`\"+i for i in symbols]\n",
    "# symbols = [\"`000004\"]\n",
    "times = t1.exec(['distinct trade_time']).toList().tolist()\n",
    "times = [i.strftime(\"%Y.%m.%d\") for i in times]\n",
    "times = list(set(times))\n",
    "\n",
    "# splitTS = \"2023.04.21 13:00:00\"\n",
    "sql = f\"\"\"select * from loadTable(\"{dbPath}\", \"{tbName}\")\"\"\"\n",
    "\n",
    "tt = s.run(sql)\n",
    "tt.shape"
   ]
  },
  {
   "cell_type": "code",
   "execution_count": 190,
   "metadata": {},
   "outputs": [],
   "source": [
    "dataloader = DDBDataLoader(\n",
    "        s, sql, targetCol=[\"label\"], batchSize=128, shuffle=False,\n",
    "        windowSize=[1, 1], windowStride=[1, 1],\n",
    "        # repartitionCol=\"date(trade_time)\", repartitionScheme=times,\n",
    "        groupCol=\"security_code\", groupScheme=symbols,\n",
    "        # seed=0,\n",
    "        excludeCol=[\"label\"], device=\"cuda\", offset=0,\n",
    "        # prefetchBatch=5, prepartitionNum=2\n",
    "    )"
   ]
  },
  {
   "cell_type": "code",
   "execution_count": 191,
   "metadata": {},
   "outputs": [],
   "source": [
    "torch.set_default_tensor_type(torch.DoubleTensor)\n",
    "\n",
    "model = SimpleNet(features_in=60)\n",
    "model = model.to(\"cuda\")\n",
    "loss_fn = nn.MSELoss()\n",
    "loss_fn = loss_fn.to(\"cuda\")\n",
    "optimizer = torch.optim.Adam(model.parameters(), lr=0.05)"
   ]
  },
  {
   "cell_type": "code",
   "execution_count": 11,
   "metadata": {},
   "outputs": [
    {
     "name": "stdout",
     "output_type": "stream",
     "text": [
      "Parameter containing:\n",
      "tensor([[[ 0.1746, -0.1128,  0.1813, -0.1519, -0.0331,  0.1454,  0.0631,\n",
      "           0.1459,  0.1303, -0.2823]]], device='cuda:0', requires_grad=True)\n",
      "Parameter containing:\n",
      "tensor([0.0503], device='cuda:0', requires_grad=True)\n",
      "Parameter containing:\n",
      "tensor([[[-0.0358, -0.2120, -0.1242, -0.3151, -0.2504, -0.1350,  0.2388,\n",
      "           0.2630,  0.2091, -0.1849]]], device='cuda:0', requires_grad=True)\n",
      "Parameter containing:\n",
      "tensor([-0.1598], device='cuda:0', requires_grad=True)\n",
      "Parameter containing:\n",
      "tensor([[ 7.9276e-02,  1.9781e-01, -2.2259e-01, -2.3677e-01,  1.9443e-01,\n",
      "         -1.5528e-01, -2.2741e-01,  2.3259e-01, -8.9684e-02, -2.2359e-01,\n",
      "         -5.1812e-02, -1.4705e-01, -2.0611e-01, -2.4668e-01,  2.2785e-01],\n",
      "        [-1.9564e-02, -2.3292e-01, -3.2589e-02, -2.1188e-01,  4.9809e-03,\n",
      "         -1.2692e-02,  2.5805e-01,  3.1228e-02,  1.9509e-01,  1.8071e-01,\n",
      "         -6.2896e-02, -6.6856e-03,  9.2432e-02,  2.0156e-01,  1.2044e-01],\n",
      "        [ 1.8671e-01, -1.5858e-01, -1.5077e-01, -1.0554e-01, -3.4482e-02,\n",
      "         -1.5815e-01, -1.3468e-02,  1.2666e-01,  1.6938e-01, -1.3297e-01,\n",
      "         -1.3287e-01,  9.7797e-02,  1.7351e-01, -2.5428e-01,  6.4768e-02],\n",
      "        [-1.2517e-01, -6.3587e-02, -4.4837e-02, -1.8046e-01,  1.4404e-02,\n",
      "          1.6278e-01, -4.9480e-02,  5.8751e-02, -2.1144e-01,  1.5301e-01,\n",
      "          1.2389e-01, -9.5215e-02, -9.0116e-02, -1.7674e-01, -1.9069e-01],\n",
      "        [ 8.6986e-02,  1.0310e-01,  1.4108e-01,  1.6117e-01, -2.0882e-01,\n",
      "         -2.4431e-02,  1.6972e-01, -5.3588e-02, -5.1909e-02, -1.1721e-01,\n",
      "         -8.5851e-02,  1.4292e-01,  4.4413e-02, -9.8370e-02,  1.8749e-01],\n",
      "        [-8.8233e-02,  5.3125e-03, -8.7015e-02,  6.0947e-02,  1.3970e-01,\n",
      "         -3.9970e-02,  1.9963e-01,  1.9745e-01,  1.6549e-01, -8.7993e-02,\n",
      "         -1.7616e-01, -1.1462e-01, -8.2013e-02, -5.5110e-02,  3.8029e-02],\n",
      "        [-1.1625e-01,  2.3604e-01,  8.1293e-02, -9.4739e-02,  1.6159e-01,\n",
      "         -2.4711e-01,  6.0117e-03,  3.1753e-02, -2.2076e-01, -1.6615e-01,\n",
      "         -1.3181e-01, -2.2349e-01,  1.1600e-02,  2.4205e-01,  1.8000e-01],\n",
      "        [ 1.2955e-02, -1.7583e-01,  1.0402e-01, -2.1080e-01,  2.3132e-01,\n",
      "          7.9512e-02, -2.2169e-01,  1.2519e-01,  1.7093e-01,  3.8016e-02,\n",
      "         -2.0695e-01, -1.5235e-01, -2.1352e-01, -1.9679e-02, -2.3450e-01],\n",
      "        [-7.3046e-02, -1.5764e-01,  7.7678e-02,  1.6713e-01,  9.0938e-02,\n",
      "         -1.6366e-01,  2.2579e-01,  2.1829e-01, -1.7500e-01,  4.8780e-02,\n",
      "          5.3491e-02, -1.6420e-01,  4.3864e-02,  2.4388e-01,  1.5833e-02],\n",
      "        [-8.1539e-02,  1.3263e-01,  7.4922e-02,  1.5426e-01, -2.2082e-01,\n",
      "          7.3035e-02,  8.7442e-02,  1.5255e-01, -3.2593e-02,  2.3520e-01,\n",
      "          4.0701e-02, -4.1141e-02,  1.2422e-01,  2.4421e-02,  2.2745e-02],\n",
      "        [-2.3323e-01,  1.0979e-01, -5.7082e-02,  1.0179e-01, -1.0140e-01,\n",
      "          2.1955e-01, -1.1011e-01,  2.5375e-01, -1.8967e-01,  1.4035e-01,\n",
      "          9.9915e-02,  2.5160e-01,  2.4961e-01, -1.3668e-01, -1.1180e-01],\n",
      "        [ 1.0514e-01,  2.0761e-01,  1.7723e-01,  2.1931e-02,  3.9210e-03,\n",
      "         -2.3547e-01, -2.3708e-01, -1.8854e-01, -1.9973e-03, -2.0450e-01,\n",
      "          1.7189e-01, -2.0544e-01,  1.6210e-01, -1.1777e-01,  7.5776e-02],\n",
      "        [ 2.3743e-01, -2.5739e-01,  1.3026e-01, -8.0884e-02, -3.1672e-02,\n",
      "          2.3026e-01, -1.0697e-01,  3.0130e-02,  9.3340e-02,  1.9294e-02,\n",
      "         -3.8903e-02, -1.8199e-01,  1.9289e-01,  1.8576e-01, -1.0497e-01],\n",
      "        [-1.6620e-01,  1.4844e-01, -1.4425e-01,  7.3011e-02,  2.2416e-01,\n",
      "         -3.3208e-02, -5.8179e-02,  1.0775e-02,  1.5202e-01,  1.6772e-01,\n",
      "          1.1813e-01, -1.2789e-01, -2.2460e-02, -3.0303e-02, -3.4805e-02],\n",
      "        [ 2.4860e-01,  6.6502e-02, -2.4618e-01,  2.2411e-01,  1.4091e-01,\n",
      "         -2.1744e-01, -2.1302e-02,  1.4897e-01, -1.1501e-01, -1.6270e-01,\n",
      "         -1.6699e-02, -4.6181e-02, -1.6988e-01, -2.1332e-01, -2.4087e-01],\n",
      "        [-1.9100e-01, -7.5970e-02, -1.7933e-01, -2.2697e-01,  9.9321e-02,\n",
      "         -1.7195e-01, -1.4530e-01,  2.0255e-01, -7.6283e-02,  1.4701e-01,\n",
      "          7.5622e-02,  6.0289e-02, -6.8372e-03,  1.9420e-01, -4.8593e-02],\n",
      "        [-6.4155e-02, -4.0815e-02, -1.0255e-01,  6.4052e-02,  1.5557e-01,\n",
      "         -1.5293e-01, -2.0636e-01, -1.2073e-01, -1.0654e-01, -1.3835e-01,\n",
      "         -2.1936e-02,  1.4102e-01,  2.0551e-01,  2.4782e-02, -2.8726e-02],\n",
      "        [ 5.3034e-02, -1.0504e-01, -3.0816e-02,  2.5587e-01, -7.3715e-02,\n",
      "          4.3711e-02, -2.4356e-01, -1.9022e-01, -1.0021e-02, -2.5786e-02,\n",
      "         -1.5881e-01, -1.7424e-01,  3.8595e-03,  1.7230e-01, -2.4988e-01],\n",
      "        [ 1.2143e-01, -9.1892e-02, -1.0982e-01,  8.8794e-02, -9.0414e-02,\n",
      "         -1.4807e-01, -6.0497e-02,  4.0216e-02, -1.9870e-01, -2.8367e-02,\n",
      "          1.4668e-03,  1.8094e-01,  1.2308e-01,  5.8376e-02, -1.3695e-01],\n",
      "        [-1.8426e-01,  2.2372e-01,  2.8755e-02,  1.0969e-01,  2.5189e-01,\n",
      "          5.6743e-02,  4.6718e-02,  2.6674e-02, -7.3008e-03, -1.5328e-01,\n",
      "         -2.9933e-02,  2.4761e-01, -1.3071e-01, -1.3434e-01,  5.3134e-02],\n",
      "        [ 1.9462e-01,  1.9755e-01, -1.2815e-01, -1.1899e-01,  2.4051e-01,\n",
      "         -2.5355e-01,  7.1849e-02,  2.1840e-01, -9.4900e-04, -1.3048e-01,\n",
      "         -1.5874e-01, -2.1765e-01,  1.6486e-01, -2.3718e-01,  6.5205e-02],\n",
      "        [ 1.1127e-01, -2.4795e-02,  1.4935e-01,  1.3969e-01,  2.2208e-01,\n",
      "          2.1141e-01, -1.7771e-01, -1.0068e-01,  2.2479e-01,  9.2464e-02,\n",
      "         -7.5636e-02,  3.7992e-02, -4.6500e-02, -2.3685e-01, -1.5947e-01],\n",
      "        [-1.8484e-01, -6.6317e-02,  3.2267e-02,  2.0802e-01, -1.5154e-01,\n",
      "         -2.1753e-01, -3.7810e-02,  9.7181e-02,  2.0479e-01,  8.8779e-02,\n",
      "          2.5318e-01,  2.1095e-01,  1.9651e-01, -8.7249e-02, -1.8045e-01],\n",
      "        [-1.9105e-01,  4.1267e-02, -2.4766e-01,  5.3279e-03,  1.2331e-01,\n",
      "          7.7729e-02,  2.2955e-01, -2.4265e-01,  7.3812e-02, -1.4750e-01,\n",
      "          3.8373e-02, -5.0374e-02,  2.5774e-01, -1.8501e-01, -2.4198e-01],\n",
      "        [-1.6065e-01,  2.3739e-01, -6.4032e-02, -2.2593e-01, -9.0563e-02,\n",
      "          1.1813e-01,  2.1938e-01,  1.3573e-01,  1.4224e-01, -1.5823e-01,\n",
      "          2.0232e-01, -2.7270e-02,  2.5628e-01,  1.8160e-01,  6.3566e-02],\n",
      "        [ 2.4923e-01,  1.9103e-01,  2.0447e-01, -8.4347e-02, -8.8821e-02,\n",
      "         -1.4245e-02, -1.3513e-01,  2.2730e-01, -1.9786e-01,  1.2146e-01,\n",
      "         -2.5132e-01, -2.4739e-01,  1.6836e-01, -2.0676e-01,  9.2209e-03],\n",
      "        [-1.0739e-01, -1.4127e-01,  5.5463e-02,  1.2285e-01, -1.1306e-01,\n",
      "         -6.1063e-02, -7.0618e-02, -2.0980e-01, -2.4717e-01,  1.4645e-01,\n",
      "         -2.2762e-01,  2.2613e-01, -2.3019e-01,  2.2315e-01,  9.1712e-02],\n",
      "        [ 8.9732e-02, -1.8249e-01,  2.2719e-02,  1.3808e-01,  1.3018e-01,\n",
      "          2.0820e-01,  1.0750e-01, -8.3194e-02,  2.4273e-01,  2.4831e-01,\n",
      "          1.5157e-01,  2.0593e-01,  1.5408e-01,  1.8922e-01, -2.2405e-01],\n",
      "        [-3.9989e-02,  2.2784e-01, -2.1065e-01, -1.7377e-01, -2.3264e-01,\n",
      "          1.7520e-01,  2.3532e-01, -2.1368e-02, -1.4340e-01,  1.6748e-01,\n",
      "         -5.0797e-02,  1.0214e-01,  2.1687e-01,  1.8445e-02,  3.7772e-02],\n",
      "        [ 1.9021e-01,  1.1923e-01,  5.5170e-02,  7.2640e-02,  4.3262e-02,\n",
      "          3.3097e-02, -2.1338e-01,  2.0285e-02,  4.9003e-02,  9.8602e-02,\n",
      "         -1.5649e-01,  1.7743e-01,  6.4390e-02,  6.9817e-02, -3.7957e-02],\n",
      "        [-1.2707e-01,  2.5411e-01,  4.7652e-02, -1.7795e-01,  1.5705e-01,\n",
      "         -2.4546e-01,  1.6514e-01,  1.2297e-01, -1.9536e-02, -1.9875e-01,\n",
      "          8.0818e-02, -1.2781e-01,  1.2256e-01, -2.5413e-02,  1.2754e-01],\n",
      "        [ 7.0453e-02,  1.7404e-01, -2.2150e-01, -1.9325e-01,  5.1113e-02,\n",
      "          1.0127e-01, -7.9540e-02,  2.4586e-01,  1.9148e-01, -1.2487e-01,\n",
      "         -1.7544e-01,  7.2533e-02, -1.9018e-01, -2.5800e-01, -9.3600e-02],\n",
      "        [-2.6074e-03, -1.7585e-01, -4.6897e-02,  3.4133e-02, -4.2184e-02,\n",
      "         -1.9859e-01, -1.2032e-01,  2.5557e-01,  1.7659e-01,  1.3921e-01,\n",
      "          9.9631e-02, -2.4158e-01,  2.4833e-01,  1.0513e-01,  1.5923e-01],\n",
      "        [ 2.1945e-01, -1.2936e-01, -1.0380e-01, -1.5928e-01,  2.4963e-01,\n",
      "         -7.3085e-02, -7.6807e-02, -2.8061e-02, -5.0409e-02, -4.9546e-02,\n",
      "          2.4300e-02, -2.5132e-01,  4.7096e-02, -4.2898e-03, -1.8948e-01],\n",
      "        [ 1.0849e-01, -9.9470e-03,  3.7578e-02,  2.0333e-02,  5.3252e-02,\n",
      "         -1.2053e-02,  5.1515e-02,  1.9906e-01,  2.0792e-01, -1.8828e-01,\n",
      "         -2.0006e-01, -2.1538e-01,  9.6302e-02, -1.2528e-01, -1.2007e-01],\n",
      "        [ 6.3849e-02, -1.8523e-01, -2.6356e-02,  1.9318e-01, -2.3004e-01,\n",
      "          1.0650e-01, -5.7005e-02,  2.5080e-01, -1.3637e-01, -2.3640e-01,\n",
      "          2.8174e-02,  1.3514e-01, -1.8287e-01, -2.1230e-01,  1.8260e-01],\n",
      "        [ 8.0317e-02, -1.7015e-01,  1.9291e-01,  6.8911e-02,  2.3557e-02,\n",
      "          5.9467e-02,  1.0967e-01,  2.0597e-01, -1.5777e-01, -1.0281e-01,\n",
      "         -2.4222e-01,  1.2949e-01, -1.8843e-01,  1.0088e-01, -1.1885e-01],\n",
      "        [ 1.6116e-01, -3.4032e-02, -3.3575e-02, -5.7099e-02,  2.3041e-01,\n",
      "         -1.6649e-02,  1.9869e-02,  1.7152e-01,  1.0073e-01, -3.8147e-02,\n",
      "         -1.9939e-01,  6.1067e-02,  1.4672e-01,  1.7687e-01,  5.8699e-05],\n",
      "        [ 1.4691e-01,  4.4454e-02,  5.4656e-03,  2.6733e-02, -6.8246e-02,\n",
      "          4.4539e-02, -4.2975e-03,  4.8338e-02, -1.2829e-01,  7.4705e-02,\n",
      "          1.9051e-01, -1.8058e-01,  2.1634e-01,  2.4997e-01,  9.9067e-02],\n",
      "        [ 5.8838e-02, -1.5040e-01,  1.3158e-02,  1.8503e-01, -5.9515e-02,\n",
      "         -4.5551e-02,  1.7781e-01,  1.4946e-01,  6.1697e-02, -9.0271e-02,\n",
      "          2.5567e-01, -1.2324e-02,  1.9678e-01,  9.0575e-02, -9.2205e-02],\n",
      "        [-2.1658e-01,  6.5968e-03, -2.5692e-02,  1.8529e-01,  1.8437e-01,\n",
      "          1.9693e-01,  9.5721e-02,  5.9173e-02,  2.1470e-01, -1.3676e-01,\n",
      "          1.4315e-01, -1.6316e-01,  6.5628e-02,  7.6461e-02, -8.9113e-02],\n",
      "        [ 2.1103e-01,  1.3824e-01, -1.7033e-01,  6.4961e-02, -7.6407e-02,\n",
      "          5.1961e-02,  2.4223e-01,  1.8099e-01,  2.1379e-01, -4.9674e-03,\n",
      "          2.5694e-01, -2.1954e-01, -1.8673e-01, -9.1056e-02,  1.9117e-01],\n",
      "        [-1.8141e-01,  2.0783e-01,  1.6298e-01, -3.1200e-02,  1.9880e-01,\n",
      "          1.1656e-01, -2.2248e-01,  1.7242e-01, -1.7296e-01, -1.7510e-01,\n",
      "         -1.5442e-01,  3.9621e-02,  1.0659e-01, -2.0701e-01,  1.1107e-01],\n",
      "        [ 4.2422e-02, -2.1246e-02,  1.1336e-01,  2.3078e-01, -2.0347e-01,\n",
      "          4.2879e-02, -1.5290e-01,  2.5709e-01, -1.8245e-01, -1.7360e-01,\n",
      "         -2.4597e-01,  4.7446e-02,  4.8687e-02, -2.1738e-01,  1.3290e-01],\n",
      "        [ 2.5432e-02,  5.4741e-02, -5.3113e-02, -1.9153e-01, -9.3638e-02,\n",
      "         -2.7310e-02, -1.6865e-01,  1.7172e-02,  1.8422e-01, -3.0399e-02,\n",
      "          1.0637e-01, -2.4948e-02, -1.4785e-01, -1.3082e-01, -1.3854e-01],\n",
      "        [-6.2021e-02,  1.3438e-01,  6.9541e-02,  2.2169e-01, -7.3865e-02,\n",
      "          1.9837e-01, -1.2047e-01,  1.7238e-01,  2.0524e-01, -3.8870e-02,\n",
      "          1.7961e-01,  9.9866e-02, -5.6239e-02, -1.3797e-01, -1.4259e-01],\n",
      "        [-7.4738e-02, -8.8198e-02, -6.7995e-02, -1.0223e-01, -4.6830e-02,\n",
      "          1.2695e-01,  1.7444e-01, -1.3316e-01,  1.0683e-01,  7.0900e-02,\n",
      "         -5.3579e-02, -1.7749e-01,  6.9402e-03, -9.9935e-02,  6.5908e-02],\n",
      "        [ 1.3816e-01,  2.1590e-01, -2.3497e-01, -1.0259e-01,  1.1118e-01,\n",
      "          4.6924e-02,  4.2238e-02,  7.9179e-02,  1.5115e-01,  2.5736e-02,\n",
      "          4.7405e-02, -6.4054e-02, -3.1410e-02,  6.3662e-02,  5.3570e-02],\n",
      "        [-1.6464e-01, -2.1068e-01, -1.4078e-01, -9.3944e-02, -1.4425e-01,\n",
      "         -2.1845e-01, -2.5654e-01, -2.3256e-01, -2.4107e-01, -2.4742e-01,\n",
      "         -1.7316e-02,  1.2056e-01, -4.6142e-02,  1.6698e-01,  1.0896e-01],\n",
      "        [ 2.4938e-01, -2.3419e-01, -2.1380e-01,  2.1547e-01,  1.9999e-01,\n",
      "          1.9685e-01,  4.5140e-02, -2.1936e-01, -2.4924e-01, -7.3118e-02,\n",
      "          1.3154e-01,  2.2796e-01,  7.9767e-02, -7.9587e-02, -2.3643e-02],\n",
      "        [ 2.0823e-01, -9.3376e-02,  1.8948e-01,  3.8094e-02,  1.0085e-01,\n",
      "          1.5336e-01,  1.7434e-01, -5.7521e-02, -1.1640e-01, -3.1596e-02,\n",
      "          1.1512e-01, -1.2842e-01, -2.4843e-02, -1.5266e-02,  2.1263e-01],\n",
      "        [-1.1480e-01, -2.3954e-01,  7.6983e-02,  1.0072e-01,  1.0111e-01,\n",
      "         -1.1752e-01, -6.6134e-02, -8.3944e-02,  2.0087e-01, -1.1669e-01,\n",
      "          5.5435e-02,  2.0262e-01, -2.2735e-01, -1.0454e-01,  2.3226e-02],\n",
      "        [ 1.9513e-01,  7.8646e-02, -6.3671e-02,  1.9559e-01, -4.4333e-02,\n",
      "          1.7131e-01, -2.3701e-01, -9.2529e-02, -2.5478e-01, -1.0846e-01,\n",
      "         -1.1548e-01,  1.4539e-01, -1.0990e-01,  7.8766e-02, -1.0163e-01],\n",
      "        [ 5.2534e-02,  9.5870e-02,  6.3946e-02,  1.5397e-01, -1.4863e-01,\n",
      "         -1.6624e-01, -2.2407e-01,  1.7421e-01,  1.2176e-02,  1.5983e-01,\n",
      "         -2.4816e-01,  1.5758e-01, -8.5421e-02,  6.4023e-02,  1.3318e-01],\n",
      "        [-1.4522e-01, -1.8121e-01,  1.1534e-01,  8.8786e-02,  2.1120e-01,\n",
      "         -1.1825e-02, -2.0778e-01, -1.1342e-01,  2.1928e-01, -1.7301e-01,\n",
      "          1.0531e-03,  2.0858e-01, -2.0497e-01, -5.4600e-02,  1.5136e-01],\n",
      "        [-2.0787e-01, -2.2276e-01, -1.9856e-01, -1.7861e-01,  2.4187e-01,\n",
      "         -2.5808e-01,  2.4511e-01, -4.1489e-02, -2.1451e-01, -3.8455e-02,\n",
      "         -4.5032e-02, -2.3826e-01,  1.6696e-01,  1.4404e-01,  1.2543e-01],\n",
      "        [ 2.5366e-01, -1.6708e-01, -3.8920e-02,  5.7384e-02, -1.4642e-01,\n",
      "         -1.9237e-02, -2.7125e-02,  1.6865e-01,  3.7897e-02, -1.4819e-01,\n",
      "          1.4947e-03, -8.5861e-03, -1.3620e-01, -8.9476e-02,  3.2840e-02],\n",
      "        [ 1.2284e-03, -1.2266e-01,  1.0152e-01,  1.8463e-01,  9.6755e-02,\n",
      "          5.2225e-02, -1.1871e-01, -1.8161e-01,  8.1856e-02,  6.1155e-02,\n",
      "         -1.3546e-01,  4.2634e-02,  5.5544e-02, -1.2161e-01, -2.5095e-01],\n",
      "        [-1.0738e-01,  1.5355e-01,  6.2727e-03, -8.6907e-02,  1.9511e-02,\n",
      "         -2.4509e-01,  2.3756e-01,  5.8632e-02, -1.1009e-01,  2.2266e-01,\n",
      "          5.1166e-02, -1.3547e-01, -7.8485e-02, -2.5128e-01, -1.1747e-03],\n",
      "        [-1.0076e-01,  1.8312e-01, -1.7271e-01, -1.8857e-01, -1.9875e-01,\n",
      "          2.1003e-01,  1.8650e-01,  4.8304e-02,  1.8882e-01,  1.8326e-01,\n",
      "          3.2714e-02, -2.3414e-01, -1.1864e-01,  1.7248e-01,  7.5318e-02]],\n",
      "       device='cuda:0', requires_grad=True)\n",
      "Parameter containing:\n",
      "tensor([-0.0664,  0.0963, -0.0334,  0.2048,  0.0783,  0.0746,  0.1177,  0.0523,\n",
      "        -0.0999,  0.1581,  0.1860, -0.1930, -0.2396,  0.1492,  0.1814,  0.1071,\n",
      "         0.0784, -0.1410, -0.1348,  0.1485,  0.0116, -0.1444,  0.1153,  0.1061,\n",
      "         0.1640,  0.1604, -0.0953,  0.2437, -0.0681, -0.2019, -0.0773, -0.2124,\n",
      "        -0.0247,  0.2277, -0.0222, -0.1247,  0.2487, -0.1891,  0.2031,  0.0766,\n",
      "        -0.1878,  0.1307, -0.0201, -0.0522,  0.0783, -0.1643, -0.1910, -0.1698,\n",
      "        -0.1224,  0.1671,  0.1536,  0.0413,  0.1257, -0.0595,  0.0521, -0.1395,\n",
      "        -0.0054, -0.2008,  0.1627,  0.1149], device='cuda:0',\n",
      "       requires_grad=True)\n",
      "Parameter containing:\n",
      "tensor([[-0.0547, -0.0143,  0.0527, -0.1070,  0.0473,  0.1018,  0.0903,  0.0251,\n",
      "         -0.0175,  0.0884, -0.0771, -0.1093,  0.0187, -0.0605, -0.0744,  0.0148,\n",
      "          0.0970,  0.0401, -0.1185, -0.0603,  0.0548, -0.1125, -0.0339,  0.0666,\n",
      "         -0.0666, -0.0148, -0.0231,  0.0032,  0.0875, -0.1006, -0.0878, -0.1126,\n",
      "          0.0947,  0.1183,  0.0524,  0.0282, -0.0396, -0.0683, -0.1290, -0.0172,\n",
      "          0.0093,  0.1105,  0.0889,  0.0019, -0.0022,  0.0763,  0.0488,  0.1123,\n",
      "          0.0211, -0.0237, -0.0946,  0.1088, -0.1279, -0.0675,  0.0043, -0.0302,\n",
      "         -0.1173,  0.0251, -0.0010,  0.0759]], device='cuda:0',\n",
      "       requires_grad=True)\n",
      "Parameter containing:\n",
      "tensor([-0.0226], device='cuda:0', requires_grad=True)\n"
     ]
    }
   ],
   "source": [
    "for parameter in model.parameters():\n",
    "    print(parameter)"
   ]
  },
  {
   "cell_type": "code",
   "execution_count": 183,
   "metadata": {},
   "outputs": [
    {
     "name": "stderr",
     "output_type": "stream",
     "text": [
      "10it [00:00, 30.11it/s]\n"
     ]
    }
   ],
   "source": [
    "epoch = 1\n",
    "model.train()\n",
    "for _ in range(epoch):\n",
    "    for i, (x, y) in enumerate(tqdm(dataloader, mininterval=1)):\n",
    "        \n",
    "        if i >= 10:\n",
    "            break\n",
    "        x = x.to(\"cuda\")\n",
    "        y = y.to(\"cuda\")\n",
    "        y_pred = model(x)"
   ]
  },
  {
   "cell_type": "code",
   "execution_count": 193,
   "metadata": {},
   "outputs": [
    {
     "name": "stdout",
     "output_type": "stream",
     "text": [
      "0 items proccessed...\n",
      "500 items proccessed...\n",
      "1000 items proccessed...\n",
      "1500 items proccessed...\n",
      "2000 items proccessed...\n",
      "2500 items proccessed...\n"
     ]
    },
    {
     "name": "stderr",
     "output_type": "stream",
     "text": [
      "Exception ignored in: <bound method DataManager.__del__ of <dolphindb_tools.dataloader.datamanager.DataManager object at 0x7f895f22ba58>>\n",
      "Traceback (most recent call last):\n",
      "  File \"/home/wangzirui/.local/lib/python3.6/site-packages/dolphindb_tools/dataloader/datamanager.py\", line 56, in __del__\n",
      "    self.exit()\n",
      "  File \"/home/wangzirui/.local/lib/python3.6/site-packages/dolphindb_tools/dataloader/datamanager.py\", line 63, in exit\n",
      "    self.join()\n",
      "  File \"/home/wangzirui/.local/lib/python3.6/site-packages/dolphindb_tools/dataloader/datamanager.py\", line 51, in join\n",
      "    self.back_thread.join()\n",
      "  File \"/usr/lib/python3.6/threading.py\", line 1053, in join\n",
      "    raise RuntimeError(\"cannot join current thread\")\n",
      "RuntimeError: cannot join current thread\n"
     ]
    },
    {
     "name": "stdout",
     "output_type": "stream",
     "text": [
      "3000 items proccessed...\n",
      "3500 items proccessed...\n",
      "4000 items proccessed...\n",
      "4500 items proccessed...\n"
     ]
    }
   ],
   "source": [
    "epoch = 1\n",
    "model.train()\n",
    "for _ in range(epoch):\n",
    "    # for x, y in tqdm(dataloader, mininterval=1):\n",
    "    for i, (x, y) in enumerate(dataloader):\n",
    "        if (i % 500) == 0:\n",
    "            print(f\"{i} items proccessed...\")\n",
    "        x = x.to(\"cuda\")\n",
    "        y = y.to(\"cuda\")\n",
    "        y_pred = model(x)\n",
    "        loss = loss_fn(y_pred, y)\n",
    "        optimizer.zero_grad()\n",
    "        loss.backward()\n",
    "        optimizer.step()"
   ]
  },
  {
   "cell_type": "code",
   "execution_count": 145,
   "metadata": {},
   "outputs": [
    {
     "data": {
      "text/plain": [
       "(tensor([[1.0000, 0.9997, 1.0009, 1.0012, 1.0027, 1.0033, 1.0033, 0.9988, 0.9988,\n",
       "          0.9988, 0.9997, 1.0009, 1.0012, 1.0027, 1.0027, 1.0033, 1.0030, 0.9982,\n",
       "          0.9988, 0.9988, 1.0009, 1.0009, 1.0012, 1.0027, 1.0027, 1.0036, 1.0033,\n",
       "          1.0000, 1.0000, 0.9991, 0.9997, 0.9997, 1.0000, 1.0012, 1.0027, 1.0033,\n",
       "          1.0030, 0.9979, 0.9976, 0.9988, 1.0002, 1.0006, 1.0003, 1.0021, 1.0027,\n",
       "          1.0033, 1.0033, 0.9992, 0.9985, 0.9989, 1.0000, 1.8394, 0.6892, 0.1889,\n",
       "          0.2682, 0.5125, 0.3441, 1.7545, 5.6780, 1.2411]], device='cuda:0'),\n",
       " tensor([[-0.3667]], device='cuda:0'),\n",
       " tensor([[-0.0244]], device='cuda:0', grad_fn=<SelectBackward0>))"
      ]
     },
     "execution_count": 145,
     "metadata": {},
     "output_type": "execute_result"
    }
   ],
   "source": [
    "i = 0\n",
    "x[i], y[i], y_pred[i]"
   ]
  },
  {
   "cell_type": "code",
   "execution_count": 31,
   "metadata": {},
   "outputs": [],
   "source": [
    "def constructDataLoader():\n",
    "    s = ddb.session()\n",
    "    s.connect(\"127.0.0.1\", 11281, \"admin\", \"123456\")\n",
    "    # 加载库表\n",
    "    dbPath = \"dfs://ai_dataloader\"\n",
    "    tbName = \"wide_factor_table\"\n",
    "    t1 = s.loadTable(tableName=tbName,dbPath=dbPath)\n",
    "    symbols = t1.exec(['distinct security_code']).toList().tolist()\n",
    "    symbols = [\"`\"+i for i in symbols]\n",
    "    times = t1.exec(['distinct trade_time']).toList().tolist()\n",
    "    times = [i.strftime(\"%Y.%m.%d\") for i in times]\n",
    "    times = list(set(times))\n",
    "    \n",
    "    splitTS = \"2023.04.21 13:00:00\"\n",
    "    sql = f\"\"\"select * from loadTable(\"{dbPath}\", \"{tbName}\") where trade_time >= {splitTS} \"\"\"\n",
    "    \n",
    "    dataloader = DDBDataLoader(\n",
    "        s, sql, targetCol=[\"label\"], batchSize=64, shuffle=True,\n",
    "        windowSize=[1, 1], windowStride=[1, 1],\n",
    "        repartitionCol=\"date(trade_time)\", repartitionScheme=times,\n",
    "        groupCol=\"security_code\", groupScheme=symbols,\n",
    "        seed=0,\n",
    "        excludeCol=[\"label\"], #device=\"cuda\",\n",
    "        prefetchBatch=5, prepartitionNum=3\n",
    "    )\n",
    "    return dataloader"
   ]
  },
  {
   "cell_type": "code",
   "execution_count": 32,
   "metadata": {},
   "outputs": [
    {
     "data": {
      "text/plain": [
       "<All keys matched successfully>"
      ]
     },
     "execution_count": 32,
     "metadata": {},
     "output_type": "execute_result"
    }
   ],
   "source": [
    "dataloader = constructDataLoader()\n",
    "torch.set_default_tensor_type(torch.DoubleTensor)\n",
    "model = SimpleNet(features_in=60)\n",
    "model.load_state_dict(torch.load(\"./models/simple_model.pth\"))"
   ]
  },
  {
   "cell_type": "code",
   "execution_count": 33,
   "metadata": {},
   "outputs": [
    {
     "name": "stderr",
     "output_type": "stream",
     "text": [
      "2it [00:00, 10.71it/s]"
     ]
    },
    {
     "name": "stdout",
     "output_type": "stream",
     "text": [
      "tensor([[1.0000, 0.9989, 0.9989, 0.9966, 0.9966, 0.9943, 0.9954, 0.9977, 0.9989,\n",
      "         0.9989, 0.9989, 0.9989, 0.9966, 0.9966, 0.9943, 0.9954, 0.9977, 0.9989,\n",
      "         0.9989, 0.9989, 1.0000, 0.9989, 0.9989, 0.9966, 0.9966, 0.9954, 0.9989,\n",
      "         1.0000, 0.9989, 0.9989, 0.9989, 0.9989, 0.9966, 0.9954, 0.9943, 0.9943,\n",
      "         0.9954, 0.9977, 0.9977, 0.9989, 0.9996, 0.9989, 0.9983, 0.9965, 0.9960,\n",
      "         0.9949, 0.9959, 0.9989, 0.9983, 0.9989, 1.0000, 1.1618, 0.7059, 1.0809,\n",
      "         1.2868, 1.9485, 6.7206, 1.8162, 0.6985, 0.9853]])\n",
      "tensor([[0.1389]])\n",
      "<class 'torch.Tensor'>\n",
      "tensor([[1.0000, 1.0022, 1.0004, 1.0007, 1.0026, 1.0022, 1.0022, 1.0037, 1.0048,\n",
      "         1.0055, 1.0011, 1.0004, 1.0007, 1.0029, 1.0022, 1.0022, 1.0033, 1.0048,\n",
      "         1.0055, 1.0062, 1.0011, 1.0022, 1.0007, 1.0029, 1.0026, 1.0029, 1.0033,\n",
      "         1.0055, 1.0059, 1.0062, 1.0000, 1.0004, 1.0000, 1.0007, 1.0018, 1.0018,\n",
      "         1.0018, 1.0037, 1.0048, 1.0055, 1.0005, 1.0007, 1.0004, 1.0017, 1.0022,\n",
      "         1.0021, 1.0030, 1.0042, 1.0055, 1.0060, 1.0000, 0.6495, 1.5269, 1.6565,\n",
      "         0.9733, 1.5916, 1.1659, 1.0042, 0.5077, 1.2866]])\n",
      "tensor([[0.1389]])\n",
      "<class 'torch.Tensor'>\n"
     ]
    },
    {
     "name": "stderr",
     "output_type": "stream",
     "text": [
      "\n"
     ]
    }
   ],
   "source": [
    "model.eval()\n",
    "with torch.no_grad():\n",
    "    for i, (x, y) in enumerate(tqdm(dataloader, mininterval=1)):\n",
    "        if i > 1:\n",
    "            break\n",
    "        # x = x.to(\"cuda\")\n",
    "        y_pred = model(x)\n",
    "        print(x[0])\n",
    "        print(y_pred[0])\n",
    "        print(type(y_pred))"
   ]
  },
  {
   "cell_type": "code",
   "execution_count": 5,
   "metadata": {},
   "outputs": [],
   "source": [
    "import mmap\n",
    "import pickle\n",
    "\n",
    "import numpy as np\n",
    "import torch\n",
    "import torch.nn as nn\n",
    "from net import SimpleNet, MultiChannNet\n",
    "from torch.utils.data import DataLoader, Dataset\n",
    "from tqdm import tqdm\n",
    "from prepare import prepare_index\n",
    "import os\n",
    "\n",
    "\n",
    "class MyDataset(Dataset):\n",
    "    def __init__(self, block_size, ):\n",
    "        with open(\"./datas/index.pkl\", 'rb') as f:\n",
    "            self.index_list = pickle.load(f)\n",
    "\n",
    "        self.data_n = 10*block_size # len(self.index_list)\n",
    "        self.block_size = block_size\n",
    "\n",
    "        symbols, times = prepare_index.get_symbols_times()\n",
    "        symbols = symbols[:10]\n",
    "\n",
    "\n",
    "        mp_dict = dict()\n",
    "\n",
    "        for id, symbol in enumerate(symbols):\n",
    "            for t in times:\n",
    "                if id >= 1000:\n",
    "                    mp_dict[f\"datas/{symbol}-{t}.bin\"] = mp_dict[f\"datas/{symbols[id % 1000]}-{t}.bin\"]\n",
    "                    continue\n",
    "                f = open(f\"./datas/{symbol}-{t}.bin\", 'rb')\n",
    "                mp_f = mmap.mmap(f.fileno(), 0, access=mmap.ACCESS_READ)\n",
    "                mp_dict[f\"datas/{symbol}-{t}.bin\"] = [f, mp_f]\n",
    "        self.mp_dict = mp_dict\n",
    "        self.symbols = symbols\n",
    "        self.times = times\n",
    "        \n",
    "\n",
    "    def __len__(self):\n",
    "        return self.data_n\n",
    "\n",
    "    def __del__(self):\n",
    "        for id, symbol in enumerate(self.symbols):\n",
    "            if id >= 10:\n",
    "                continue\n",
    "            for t in self.times:\n",
    "                f, mp_f = self.mp_dict[f\"datas/{symbol}-{t}.bin\"]\n",
    "                mp_f.close()\n",
    "                f.close()\n",
    "    \n",
    "    def __getitem__(self, index):\n",
    "        x_infos = self.index_list[index][\"x\"]\n",
    "        y_infos = self.index_list[index][\"y\"]\n",
    "        x_datas = []\n",
    "        y_datas = []\n",
    "        for x_info in x_infos:\n",
    "            f, mp_f = self.mp_dict[x_info[0]]\n",
    "            mp_f.seek( x_info[1] *8*61)\n",
    "            data = mp_f.read(((x_info[2]+1) - x_info[1])*8*61)\n",
    "            data = np.frombuffer(data, dtype=np.float64)\n",
    "            x_datas.append(data[:60].reshape(-1, 60))\n",
    "            y_datas.append(data[60:].reshape(-1, 1))\n",
    "        x_datas = np.concatenate(x_datas, axis=0)\n",
    "        # y_datas = []\n",
    "        # for y_info in y_infos:\n",
    "        #     f, mp_f = self.mp_dict[y_info[0]]\n",
    "        #     mp_f.seek(y_info[1]*8*1)\n",
    "        #     data = mp_f.read((y_info[2] - y_info[1])*8*1)\n",
    "        #     data = np.frombuffer(data, dtype=np.float64)\n",
    "        #     data = data.reshape(-1, 1)\n",
    "        #     y_datas.append(data)\n",
    "        y_datas = np.concatenate(y_datas, axis=0)\n",
    "        return x_datas, y_datas\n",
    "\n",
    "def get_model(model_name):\n",
    "    if model_name == \"simple_model\":\n",
    "        model = SimpleNet(features_in=60)\n",
    "    elif model_name == \"multichann_model\":\n",
    "        model = MultiChannNet(features_in=6)\n",
    "    \n",
    "    model = model.to(\"cuda\")\n",
    "    return model\n",
    "\n",
    "def train():\n",
    "    torch.set_default_tensor_type(torch.DoubleTensor)\n",
    "    model_name = \"multichann_model\"\n",
    "    model = get_model(model_name)\n",
    "\n",
    "    loss_fn = nn.MSELoss()\n",
    "    loss_fn = loss_fn.to(\"cuda\")\n",
    "    optimizer = torch.optim.Adam(model.parameters(), lr=0.05)\n",
    "    dataset = MyDataset(110)\n",
    "    dataloader = DataLoader(\n",
    "        dataset, batch_size=128, shuffle=False, num_workers=4,\n",
    "        pin_memory=True, # pin_memory_device=\"cuda\",\n",
    "        prefetch_factor=5,\n",
    "    )\n",
    "\n",
    "    epoch = 1\n",
    "    train_losses = []\n",
    "    model.train()\n",
    "    for _ in range(epoch):\n",
    "        for x, y in tqdm(dataloader, mininterval=1):\n",
    "            x = x.to(\"cuda\")\n",
    "            y = y.to(\"cuda\")\n",
    "            y_pred = model(x)\n",
    "            loss = loss_fn(y_pred, y)\n",
    "            optimizer.zero_grad()\n",
    "            loss.backward()\n",
    "            optimizer.step()\n",
    "            train_losses.append(loss.data)\n",
    "        \n",
    "    os.makedirs(\"./models/\", exist_ok=True)\n",
    "    torch.save(model.state_dict(),  f\"./models/{model_name}_old.pth\")\n",
    "    return train_losses\n"
   ]
  },
  {
   "cell_type": "code",
   "execution_count": 6,
   "metadata": {},
   "outputs": [
    {
     "name": "stderr",
     "output_type": "stream",
     "text": [
      "100%|██████████| 9/9 [00:01<00:00,  5.25it/s]\n"
     ]
    }
   ],
   "source": [
    "train_losses = train()"
   ]
  },
  {
   "cell_type": "code",
   "execution_count": 10,
   "metadata": {},
   "outputs": [],
   "source": [
    "train_losses = [i.cpu().detach().numpy() for i in train_losses]"
   ]
  },
  {
   "cell_type": "code",
   "execution_count": 13,
   "metadata": {},
   "outputs": [
    {
     "data": {
      "image/png": "[encoded data removed]",
      "text/plain": [
       "<Figure size 640x480 with 1 Axes>"
      ]
     },
     "metadata": {},
     "output_type": "display_data"
    }
   ],
   "source": [
    "import matplotlib.pyplot as plt\n",
    "\n",
    "os.makedirs(\"./plots\", exist_ok=True)\n",
    "plt.plot(train_losses, label='Training Loss')\n",
    "plt.xlabel('Epoch')\n",
    "plt.ylabel('Loss')\n",
    "plt.title('Training Loss')\n",
    "plt.legend()\n",
    "# plt.show()\n",
    "\n",
    "plt.savefig(\"plots/multichann_model_train_loss.pdf\")\n"
   ]
  },
  {
   "cell_type": "markdown",
   "metadata": {},
   "source": []
  }
 ],
 "metadata": {
  "kernelspec": {
   "display_name": "Python 3",
   "language": "python",
   "name": "python3"
  },
  "language_info": {
   "codemirror_mode": {
    "name": "ipython",
    "version": 3
   },
   "file_extension": ".py",
   "mimetype": "text/x-python",
   "name": "python",
   "nbconvert_exporter": "python",
   "pygments_lexer": "ipython3",
   "version": "3.7.16"
  }
 },
 "nbformat": 4,
 "nbformat_minor": 2
}
